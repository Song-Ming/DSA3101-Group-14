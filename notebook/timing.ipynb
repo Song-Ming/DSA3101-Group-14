{
 "cells": [
  {
   "cell_type": "code",
   "execution_count": 1,
   "metadata": {},
   "outputs": [],
   "source": [
    "import pandas as pd\n",
    "import numpy as np\n",
    "import matplotlib.pyplot as plt"
   ]
  },
  {
   "cell_type": "code",
   "execution_count": null,
   "metadata": {},
   "outputs": [],
   "source": [
    "# pre processing\n",
    "df = pd.read_csv('../data/raw_data/bank_marketing_dataset.csv')\n",
    "df = df.copy()\n",
    "df[\"month\"] = df[\"month\"].astype(\"category\")\n",
    "df[\"contact\"] = df[\"contact\"].astype(\"category\")\n",
    "df[\"day_of_week\"] = df[\"day_of_week\"].astype(\"category\")\n",
    "df = df[df[\"poutcome\"] != \"nonexistent\"]\n",
    "df['poutcome'] = df['poutcome'].map({'success': 1, 'failure': 0})\n",
    "X = df[[\"month\", \"day_of_week\", \"contact\", \"poutcome\"]]\n"
   ]
  },
  {
   "cell_type": "code",
   "execution_count": null,
   "metadata": {},
   "outputs": [
    {
     "name": "stdout",
     "output_type": "stream",
     "text": [
      "month\n",
      "dec    0.535714\n",
      "sep    0.519298\n",
      "jul    0.473684\n",
      "jun    0.457143\n",
      "mar    0.452514\n",
      "oct    0.447368\n",
      "aug    0.446623\n",
      "nov    0.164343\n",
      "apr    0.146438\n",
      "may    0.114485\n",
      "Name: poutcome, dtype: float64\n"
     ]
    },
    {
     "name": "stderr",
     "output_type": "stream",
     "text": [
      "/var/folders/nf/fvzp8jgx7w5d98kpy9l2zh2r0000gn/T/ipykernel_27512/2805975088.py:1: FutureWarning: The default of observed=False is deprecated and will be changed to True in a future version of pandas. Pass observed=False to retain current behavior or observed=True to adopt the future default and silence this warning.\n",
      "  success_by_month = df.groupby(\"month\")[\"poutcome\"].mean().sort_values(ascending=False)\n"
     ]
    }
   ],
   "source": [
    "success_by_month = df.groupby(\"month\")[\"poutcome\"].mean().sort_values(ascending=False)\n",
    "print(success_by_month)"
   ]
  },
  {
   "cell_type": "code",
   "execution_count": null,
   "metadata": {},
   "outputs": [
    {
     "name": "stdout",
     "output_type": "stream",
     "text": [
      "day_of_week\n",
      "thu    0.265876\n",
      "tue    0.265511\n",
      "wed    0.251397\n",
      "mon    0.240870\n",
      "fri    0.196619\n",
      "Name: poutcome, dtype: float64\n"
     ]
    },
    {
     "name": "stderr",
     "output_type": "stream",
     "text": [
      "/var/folders/nf/fvzp8jgx7w5d98kpy9l2zh2r0000gn/T/ipykernel_27512/3885913192.py:1: FutureWarning: The default of observed=False is deprecated and will be changed to True in a future version of pandas. Pass observed=False to retain current behavior or observed=True to adopt the future default and silence this warning.\n",
      "  success_by_day = df.groupby(\"day_of_week\")[\"poutcome\"].mean().sort_values(ascending=False)\n"
     ]
    }
   ],
   "source": [
    "success_by_day = df.groupby(\"day_of_week\")[\"poutcome\"].mean().sort_values(ascending=False)\n",
    "print(success_by_day)"
   ]
  },
  {
   "cell_type": "code",
   "execution_count": 11,
   "metadata": {},
   "outputs": [
    {
     "name": "stdout",
     "output_type": "stream",
     "text": [
      "contact\n",
      "telephone    0.255583\n",
      "cellular     0.243202\n",
      "Name: poutcome, dtype: float64\n"
     ]
    },
    {
     "name": "stderr",
     "output_type": "stream",
     "text": [
      "/var/folders/nf/fvzp8jgx7w5d98kpy9l2zh2r0000gn/T/ipykernel_27512/2470182374.py:1: FutureWarning: The default of observed=False is deprecated and will be changed to True in a future version of pandas. Pass observed=False to retain current behavior or observed=True to adopt the future default and silence this warning.\n",
      "  success_by_contact = df.groupby(\"contact\")[\"poutcome\"].mean().sort_values(ascending=False)\n"
     ]
    }
   ],
   "source": [
    "success_by_contact = df.groupby(\"contact\")[\"poutcome\"].mean().sort_values(ascending=False)\n",
    "print(success_by_contact)"
   ]
  },
  {
   "cell_type": "code",
   "execution_count": null,
   "metadata": {},
   "outputs": [
    {
     "name": "stdout",
     "output_type": "stream",
     "text": [
      "Optimized Campaign: Day = thu, Contact = telephone, Month = dec\n",
      "New Best Campaign Strategy -> Day: thu, Month: dec, Contact: telephone\n"
     ]
    },
    {
     "name": "stderr",
     "output_type": "stream",
     "text": [
      "/var/folders/nf/fvzp8jgx7w5d98kpy9l2zh2r0000gn/T/ipykernel_27512/3894084149.py:11: FutureWarning: The default of observed=False is deprecated and will be changed to True in a future version of pandas. Pass observed=False to retain current behavior or observed=True to adopt the future default and silence this warning.\n",
      "  success_by_day = df.groupby(\"day_of_week\")[\"poutcome\"].mean().sort_values(ascending=False)\n",
      "/var/folders/nf/fvzp8jgx7w5d98kpy9l2zh2r0000gn/T/ipykernel_27512/3894084149.py:12: FutureWarning: The default of observed=False is deprecated and will be changed to True in a future version of pandas. Pass observed=False to retain current behavior or observed=True to adopt the future default and silence this warning.\n",
      "  success_by_contact = df.groupby(\"contact\")[\"poutcome\"].mean().sort_values(ascending=False)\n",
      "/var/folders/nf/fvzp8jgx7w5d98kpy9l2zh2r0000gn/T/ipykernel_27512/3894084149.py:13: FutureWarning: The default of observed=False is deprecated and will be changed to True in a future version of pandas. Pass observed=False to retain current behavior or observed=True to adopt the future default and silence this warning.\n",
      "  success_by_month = df.groupby(\"month\")[\"poutcome\"].mean().sort_values(ascending=False)\n"
     ]
    }
   ],
   "source": [
    "\n",
    "class Campaign:\n",
    "    def __init__(self, day_of_week=\"mon\", month=\"jan\", contact=\"telephone\"):\n",
    "        \"\"\"Initialize campaign with default values.\"\"\"\n",
    "        self.day_of_week = day_of_week\n",
    "        self.month = month\n",
    "        self.contact = contact\n",
    "\n",
    "    def optimize_campaign(self, df):\n",
    "        ## Select the best  day, contact method, and month \n",
    "        success_by_day = df.groupby(\"day_of_week\")[\"poutcome\"].mean().sort_values(ascending=False)\n",
    "        success_by_contact = df.groupby(\"contact\")[\"poutcome\"].mean().sort_values(ascending=False)\n",
    "        success_by_month = df.groupby(\"month\")[\"poutcome\"].mean().sort_values(ascending=False)\n",
    "\n",
    "        # Update \n",
    "        self.day_of_week = success_by_day.idxmax()\n",
    "        self.contact = success_by_contact.idxmax()\n",
    "        self.month = success_by_month.idxmax()\n",
    "\n",
    "        print(f\"Optimized Campaign: Day = {self.day_of_week}, Contact = {self.contact}, Month = {self.month}\")\n",
    "\n",
    "\n",
    "# Initialize Campaign\n",
    "campaign = Campaign()\n",
    "\n",
    "# Optimize Campaign Based on Past Data\n",
    "campaign.optimize_campaign(df)\n",
    "\n",
    "# Check Updated Campaign Parameters\n",
    "print(f\"New Best Campaign Strategy -> Day: {campaign.day_of_week}, Month: {campaign.month}, Contact: {campaign.contact}\")\n"
   ]
  }
 ],
 "metadata": {
  "kernelspec": {
   "display_name": "Python 3",
   "language": "python",
   "name": "python3"
  },
  "language_info": {
   "codemirror_mode": {
    "name": "ipython",
    "version": 3
   },
   "file_extension": ".py",
   "mimetype": "text/x-python",
   "name": "python",
   "nbconvert_exporter": "python",
   "pygments_lexer": "ipython3",
   "version": "3.10.6"
  }
 },
 "nbformat": 4,
 "nbformat_minor": 2
}
