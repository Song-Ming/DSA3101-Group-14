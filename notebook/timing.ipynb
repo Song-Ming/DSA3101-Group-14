{
 "cells": [
  {
   "cell_type": "code",
   "execution_count": 1,
   "metadata": {},
   "outputs": [],
   "source": [
    "import pandas as pd\n",
    "import numpy as np\n",
    "import matplotlib.pyplot as plt"
   ]
  },
  {
   "cell_type": "code",
   "execution_count": null,
   "metadata": {},
   "outputs": [],
   "source": [
    "# pre processing\n",
    "df = pd.read_csv('../data/raw_data/bank_marketing_dataset.csv')\n",
    "df = df.copy()\n",
    "df[\"month\"] = df[\"month\"].astype(\"category\")\n",
    "df[\"contact\"] = df[\"contact\"].astype(\"category\")\n",
    "df[\"day_of_week\"] = df[\"day_of_week\"].astype(\"category\")\n",
    "df = df[df[\"poutcome\"] != \"nonexistent\"]\n",
    "df['poutcome'] = df['poutcome'].map({'success': 1, 'failure': 0})\n",
    "X = df[[\"month\", \"day_of_week\", \"contact\", \"poutcome\"]]"
   ]
  },
  {
   "cell_type": "code",
   "execution_count": 15,
   "metadata": {},
   "outputs": [
    {
     "name": "stdout",
     "output_type": "stream",
     "text": [
      "Optimized Campaign: Day = thu, Contact = telephone, Month = dec\n",
      "New Best Campaign Strategy -> Day: thu, Month: dec, Contact: telephone\n"
     ]
    }
   ],
   "source": [
    "\n",
    "class Campaign:\n",
    "    def __init__(self, day_of_week=\"mon\", month=\"jan\", contact=\"telephone\"):\n",
    "        \"\"\"Initialize campaign with default values.\"\"\"\n",
    "        self.day_of_week = day_of_week\n",
    "        self.month = month\n",
    "        self.contact = contact\n",
    "\n",
    "    def optimize_campaign(self, df):\n",
    "        ## Select the best  day, contact method, and month \n",
    "        success_by_day = df.groupby(\"day_of_week\",  observed=False)[\"poutcome\"].mean().sort_values(ascending=False)\n",
    "        success_by_contact = df.groupby(\"contact\",  observed=False)[\"poutcome\"].mean().sort_values(ascending=False)\n",
    "        success_by_month = df.groupby(\"month\", observed=False)[\"poutcome\"].mean().sort_values(ascending=False)\n",
    "\n",
    "        # Update \n",
    "        self.day_of_week = success_by_day.idxmax()\n",
    "        self.contact = success_by_contact.idxmax()\n",
    "        self.month = success_by_month.idxmax()\n",
    "\n",
    "        print(f\"Optimized Campaign: Day = {self.day_of_week}, Contact = {self.contact}, Month = {self.month}\")\n",
    "\n",
    "\n",
    "# Initialize Campaign\n",
    "campaign = Campaign()\n",
    "\n",
    "# Optimize Campaign Based on Past Data\n",
    "campaign.optimize_campaign(df)\n",
    "\n",
    "# Check Updated Campaign Parameters\n",
    "print(f\"New Best Campaign Strategy -> Day: {campaign.day_of_week}, Month: {campaign.month}, Contact: {campaign.contact}\")\n"
   ]
  }
 ],
 "metadata": {
  "kernelspec": {
   "display_name": "Python 3",
   "language": "python",
   "name": "python3"
  },
  "language_info": {
   "codemirror_mode": {
    "name": "ipython",
    "version": 3
   },
   "file_extension": ".py",
   "mimetype": "text/x-python",
   "name": "python",
   "nbconvert_exporter": "python",
   "pygments_lexer": "ipython3",
   "version": "3.10.6"
  }
 },
 "nbformat": 4,
 "nbformat_minor": 2
}
